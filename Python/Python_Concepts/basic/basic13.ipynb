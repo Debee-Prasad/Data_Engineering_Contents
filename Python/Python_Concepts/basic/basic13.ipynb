{
 "cells": [
  {
   "cell_type": "markdown",
   "metadata": {},
   "source": [
    "1. What advantages do Excel spreadsheets have over CSV spreadsheets?\n",
    "Ans: The Advantages of Excel over CSV are:\n",
    "\n",
    "1. Excel (XLS and XLSX) file formats are better for storing and analysing complex data.\n",
    "2. An Excel not only stores data but can also do operations on the data using macros, formulas etc\n",
    "3. CSV files are plain-text files, Does not contain formatting, formulas, macros, etc. It is also known as flat files"
   ]
  },
  {
   "cell_type": "markdown",
   "metadata": {},
   "source": [
    "2. What do you pass to csv.reader() and csv.writer() to create reader and writer objects?"
   ]
  },
  {
   "cell_type": "code",
   "execution_count": 2,
   "metadata": {},
   "outputs": [
    {
     "name": "stdout",
     "output_type": "stream",
     "text": [
      "['Key\\t\"Exam Event\"\\t\"Program Full Name\"\\t\"Program Part Name\"\\t\"Program Part Abbrevation\"\\t\"termAbbr\"\\t\"Program Code\"\\tProgram Id\\t\"Examination Seat Number\"\\tStatement Number\\t\"College Code\"\\t\"College Name\"\\t\"Regional Center Code\"\\t\"Regional Center Name\"\\tTerm Credit\\t\"Examination Center Code\"\\t\"Examination Center Name\"\\tGrand Total\\tTerm MIN Marks\\tTerm MAX Marks\\t\"Term Result Status\"\\tPercentage\\t\"Course Code\"\\t\"Course Group/Course Name/Additional Passing Head\"\\tCourse Credits\\tCourse Total\\tCourse MIN Marks\\tCourse MAX Marks\\t\"Course Status\"\\t\"Assessment Method\"\\tAssessment Method Total\\tAssessment Method MIN Marks\\tAssessment Method MAX Marks\\t\"Assessment Method Status\"\\t\"Assessment TYPE\"\\tAssessment TYPE Total\\tAssessment TYPE MIN Marks\\tAssessment TYPE MAX Marks\\t\"Assessment TYPE Status\"\\t\"Assessment Type Exemption Status\"\\t\"Ordinance marks to course\"\\t\"Ordinance applied to paper\"\\t\"Ordinance marks to paper\"\\t\"Result Processed Date\"\\tGrand Total\\tTerm MIN Marks\\tTerm MAX Marks\\tcollegeId\\t\"Branch Desc\"\\t\"Perfomance\"\\t\"Name of Student\"\\t\"Vernacular Name\"\\t\"PRN-Permanent Registration Number\"']\n",
      "['5475\\t\"Winter 2023\"\\t\"B.Com Banking(with Credits)-Regular-P2023\"\\t\"First Year B.Com- Banking\"\\t\"FY Bcom-Banking\"\\t\"SEM-I\"\\t\"\"\\t1\\t\"C6532\"\\t8513\\t\"01\"\\t\"RMACS (Affiliated to Savitribai Phule Pune University)\"\\t\"\"\\t\"\"\\t0.00\\t\"001\"\\t\"Akurdi', ' Pune\"\\t356\\t0.00\\t550\\t\"Fail\"\\t64.73\\t\"ENAET-111\"\\t\"(ENAET-111)Compulsory English\"\\t2.00\\t41\\t0.00\\t50\\t\"Pass\"\\t\"TH\"\\t41\\t0.00\\t50\\t\"Pass\"\\t\"External Assessment\"\\t29\\t14.00\\t35\\t\"Pass\"\\t\"Yes\"\\t\"\"\\t\"\"\\t\"\"\\t\"08-March-2024\"\\t356\\t0.00\\t550\\t1\\t\"No Branch\"\\t\"C\"\\t\"SHAIKH SAYARABANU ALIHASAN\"\\t\"à¤¶à¥‡à¤– à¤¸à¤¾à¤¯à¤°à¤¾à¤¬à¤¾à¤¨à¥‚ à¤…à¤²à¥€à¤¹à¤¾à¤¸à¤¨\"\\t\"2023097600000151\"']\n",
      "['5475\\t\"Winter 2023\"\\t\"B.Com Banking(with Credits)-Regular-P2023\"\\t\"First Year B.Com- Banking\"\\t\"FY Bcom-Banking\"\\t\"SEM-I\"\\t\"\"\\t1\\t\"C6532\"\\t8513\\t\"01\"\\t\"RMACS (Affiliated to Savitribai Phule Pune University)\"\\t\"\"\\t\"\"\\t0.00\\t\"001\"\\t\"Akurdi', ' Pune\"\\t356\\t0.00\\t550\\t\"Fail\"\\t64.73\\t\"ENAET-111\"\\t\"(ENAET-111)Compulsory English\"\\t2.00\\t41\\t0.00\\t50\\t\"Pass\"\\t\"TH\"\\t41\\t0.00\\t50\\t\"Pass\"\\t\"Internal Assessment\"\\t12\\t6.00\\t15\\t\"Pass\"\\t\"Yes\"\\t\"\"\\t\"\"\\t\"\"\\t\"08-March-2024\"\\t356\\t0.00\\t550\\t1\\t\"No Branch\"\\t\"C\"\\t\"SHAIKH SAYARABANU ALIHASAN\"\\t\"à¤¶à¥‡à¤– à¤¸à¤¾à¤¯à¤°à¤¾à¤¬à¤¾à¤¨à¥‚ à¤…à¤²à¥€à¤¹à¤¾à¤¸à¤¨\"\\t\"2023097600000151\"']\n",
      "['5475\\t\"Winter 2023\"\\t\"B.Com Banking(with Credits)-Regular-P2023\"\\t\"First Year B.Com- Banking\"\\t\"FY Bcom-Banking\"\\t\"SEM-I\"\\t\"\"\\t1\\t\"C6532\"\\t8513\\t\"01\"\\t\"RMACS (Affiliated to Savitribai Phule Pune University)\"\\t\"\"\\t\"\"\\t0.00\\t\"001\"\\t\"Akurdi', ' Pune\"\\t356\\t0.00\\t550\\t\"Fail\"\\t64.73\\t\"COMAT-111\"\\t\"(COMAT-111)Financial Accounting-I\"\\t2.00\\t13\\t0.00\\t50\\t\"Fail\"\\t\"TH\"\\t13\\t0.00\\t50\\t\"Fail\"\\t\"External Assessment\"\\t6\\t14.00\\t35\\t\"Fail\"\\t\"No\"\\t\"\"\\t\"\"\\t\"\"\\t\"08-March-2024\"\\t356\\t0.00\\t550\\t1\\t\"No Branch\"\\t\"C\"\\t\"SHAIKH SAYARABANU ALIHASAN\"\\t\"à¤¶à¥‡à¤– à¤¸à¤¾à¤¯à¤°à¤¾à¤¬à¤¾à¤¨à¥‚ à¤…à¤²à¥€à¤¹à¤¾à¤¸à¤¨\"\\t\"2023097600000151\"']\n",
      "['5475\\t\"Winter 2023\"\\t\"B.Com Banking(with Credits)-Regular-P2023\"\\t\"First Year B.Com- Banking\"\\t\"FY Bcom-Banking\"\\t\"SEM-I\"\\t\"\"\\t1\\t\"C6532\"\\t8513\\t\"01\"\\t\"RMACS (Affiliated to Savitribai Phule Pune University)\"\\t\"\"\\t\"\"\\t0.00\\t\"001\"\\t\"Akurdi', ' Pune\"\\t356\\t0.00\\t550\\t\"Fail\"\\t64.73\\t\"COMAT-111\"\\t\"(COMAT-111)Financial Accounting-I\"\\t2.00\\t13\\t0.00\\t50\\t\"Fail\"\\t\"TH\"\\t13\\t0.00\\t50\\t\"Fail\"\\t\"Internal Assessment\"\\t7\\t6.00\\t15\\t\"Pass\"\\t\"No\"\\t\"\"\\t\"\"\\t\"\"\\t\"08-March-2024\"\\t356\\t0.00\\t550\\t1\\t\"No Branch\"\\t\"C\"\\t\"SHAIKH SAYARABANU ALIHASAN\"\\t\"à¤¶à¥‡à¤– à¤¸à¤¾à¤¯à¤°à¤¾à¤¬à¤¾à¤¨à¥‚ à¤…à¤²à¥€à¤¹à¤¾à¤¸à¤¨\"\\t\"2023097600000151\"']\n",
      "['5475\\t\"Winter 2023\"\\t\"B.Com Banking(with Credits)-Regular-P2023\"\\t\"First Year B.Com- Banking\"\\t\"FY Bcom-Banking\"\\t\"SEM-I\"\\t\"\"\\t1\\t\"C6532\"\\t8513\\t\"01\"\\t\"RMACS (Affiliated to Savitribai Phule Pune University)\"\\t\"\"\\t\"\"\\t0.00\\t\"001\"\\t\"Akurdi', ' Pune\"\\t356\\t0.00\\t550\\t\"Fail\"\\t64.73\\t\"COMAT-112\"\\t\"(COMAT-112)Fundamentals of Banking\"\\t2.00\\t31\\t0.00\\t50\\t\"Pass\"\\t\"TH\"\\t31\\t0.00\\t50\\t\"Pass\"\\t\"External Assessment\"\\t21\\t14.00\\t35\\t\"Pass\"\\t\"Yes\"\\t\"\"\\t\"\"\\t\"\"\\t\"08-March-2024\"\\t356\\t0.00\\t550\\t1\\t\"No Branch\"\\t\"C\"\\t\"SHAIKH SAYARABANU ALIHASAN\"\\t\"à¤¶à¥‡à¤– à¤¸à¤¾à¤¯à¤°à¤¾à¤¬à¤¾à¤¨à¥‚ à¤…à¤²à¥€à¤¹à¤¾à¤¸à¤¨\"\\t\"2023097600000151\"']\n",
      "['5475\\t\"Winter 2023\"\\t\"B.Com Banking(with Credits)-Regular-P2023\"\\t\"First Year B.Com- Banking\"\\t\"FY Bcom-Banking\"\\t\"SEM-I\"\\t\"\"\\t1\\t\"C6532\"\\t8513\\t\"01\"\\t\"RMACS (Affiliated to Savitribai Phule Pune University)\"\\t\"\"\\t\"\"\\t0.00\\t\"001\"\\t\"Akurdi', ' Pune\"\\t356\\t0.00\\t550\\t\"Fail\"\\t64.73\\t\"COMAT-112\"\\t\"(COMAT-112)Fundamentals of Banking\"\\t2.00\\t31\\t0.00\\t50\\t\"Pass\"\\t\"TH\"\\t31\\t0.00\\t50\\t\"Pass\"\\t\"Internal Assessment\"\\t10\\t6.00\\t15\\t\"Pass\"\\t\"Yes\"\\t\"\"\\t\"\"\\t\"\"\\t\"08-March-2024\"\\t356\\t0.00\\t550\\t1\\t\"No Branch\"\\t\"C\"\\t\"SHAIKH SAYARABANU ALIHASAN\"\\t\"à¤¶à¥‡à¤– à¤¸à¤¾à¤¯à¤°à¤¾à¤¬à¤¾à¤¨à¥‚ à¤…à¤²à¥€à¤¹à¤¾à¤¸à¤¨\"\\t\"2023097600000151\"']\n",
      "['5475\\t\"Winter 2023\"\\t\"B.Com Banking(with Credits)-Regular-P2023\"\\t\"First Year B.Com- Banking\"\\t\"FY Bcom-Banking\"\\t\"SEM-I\"\\t\"\"\\t1\\t\"C6532\"\\t8513\\t\"01\"\\t\"RMACS (Affiliated to Savitribai Phule Pune University)\"\\t\"\"\\t\"\"\\t0.00\\t\"001\"\\t\"Akurdi', ' Pune\"\\t356\\t0.00\\t550\\t\"Fail\"\\t64.73\\t\"COMAT-113\"\\t\"(COMAT-113)Business Mathematics & Statistics-I\"\\t2.00\\t28\\t0.00\\t50\\t\"Pass\"\\t\"TH\"\\t28\\t0.00\\t50\\t\"Pass\"\\t\"External Assessment\"\\t17\\t14.00\\t35\\t\"Pass\"\\t\"Yes\"\\t\"\"\\t\"\"\\t\"\"\\t\"08-March-2024\"\\t356\\t0.00\\t550\\t1\\t\"No Branch\"\\t\"C\"\\t\"SHAIKH SAYARABANU ALIHASAN\"\\t\"à¤¶à¥‡à¤– à¤¸à¤¾à¤¯à¤°à¤¾à¤¬à¤¾à¤¨à¥‚ à¤…à¤²à¥€à¤¹à¤¾à¤¸à¤¨\"\\t\"2023097600000151\"']\n",
      "['5475\\t\"Winter 2023\"\\t\"B.Com Banking(with Credits)-Regular-P2023\"\\t\"First Year B.Com- Banking\"\\t\"FY Bcom-Banking\"\\t\"SEM-I\"\\t\"\"\\t1\\t\"C6532\"\\t8513\\t\"01\"\\t\"RMACS (Affiliated to Savitribai Phule Pune University)\"\\t\"\"\\t\"\"\\t0.00\\t\"001\"\\t\"Akurdi', ' Pune\"\\t356\\t0.00\\t550\\t\"Fail\"\\t64.73\\t\"COMAT-113\"\\t\"(COMAT-113)Business Mathematics & Statistics-I\"\\t2.00\\t28\\t0.00\\t50\\t\"Pass\"\\t\"TH\"\\t28\\t0.00\\t50\\t\"Pass\"\\t\"Internal Assessment\"\\t11\\t6.00\\t15\\t\"Pass\"\\t\"Yes\"\\t\"\"\\t\"\"\\t\"\"\\t\"08-March-2024\"\\t356\\t0.00\\t550\\t1\\t\"No Branch\"\\t\"C\"\\t\"SHAIKH SAYARABANU ALIHASAN\"\\t\"à¤¶à¥‡à¤– à¤¸à¤¾à¤¯à¤°à¤¾à¤¬à¤¾à¤¨à¥‚ à¤…à¤²à¥€à¤¹à¤¾à¤¸à¤¨\"\\t\"2023097600000151\"']\n",
      "['5475\\t\"Winter 2023\"\\t\"B.Com Banking(with Credits)-Regular-P2023\"\\t\"First Year B.Com- Banking\"\\t\"FY Bcom-Banking\"\\t\"SEM-I\"\\t\"\"\\t1\\t\"C6532\"\\t8513\\t\"01\"\\t\"RMACS (Affiliated to Savitribai Phule Pune University)\"\\t\"\"\\t\"\"\\t0.00\\t\"001\"\\t\"Akurdi', ' Pune\"\\t356\\t0.00\\t550\\t\"Fail\"\\t64.73\\t\"COMIKT-111\"\\t\"(COMIKT-111)Indian Ethos in Management-I\"\\t2.00\\t34\\t0.00\\t50\\t\"Pass\"\\t\"TH\"\\t34\\t0.00\\t50\\t\"Pass\"\\t\"External Assessment\"\\t23\\t14.00\\t35\\t\"Pass\"\\t\"Yes\"\\t\"\"\\t\"\"\\t\"\"\\t\"08-March-2024\"\\t356\\t0.00\\t550\\t1\\t\"No Branch\"\\t\"C\"\\t\"SHAIKH SAYARABANU ALIHASAN\"\\t\"à¤¶à¥‡à¤– à¤¸à¤¾à¤¯à¤°à¤¾à¤¬à¤¾à¤¨à¥‚ à¤…à¤²à¥€à¤¹à¤¾à¤¸à¤¨\"\\t\"2023097600000151\"']\n",
      "['5475\\t\"Winter 2023\"\\t\"B.Com Banking(with Credits)-Regular-P2023\"\\t\"First Year B.Com- Banking\"\\t\"FY Bcom-Banking\"\\t\"SEM-I\"\\t\"\"\\t1\\t\"C6532\"\\t8513\\t\"01\"\\t\"RMACS (Affiliated to Savitribai Phule Pune University)\"\\t\"\"\\t\"\"\\t0.00\\t\"001\"\\t\"Akurdi', ' Pune\"\\t356\\t0.00\\t550\\t\"Fail\"\\t64.73\\t\"COMIKT-111\"\\t\"(COMIKT-111)Indian Ethos in Management-I\"\\t2.00\\t34\\t0.00\\t50\\t\"Pass\"\\t\"TH\"\\t34\\t0.00\\t50\\t\"Pass\"\\t\"Internal Assessment\"\\t11\\t6.00\\t15\\t\"Pass\"\\t\"Yes\"\\t\"\"\\t\"\"\\t\"\"\\t\"08-March-2024\"\\t356\\t0.00\\t550\\t1\\t\"No Branch\"\\t\"C\"\\t\"SHAIKH SAYARABANU ALIHASAN\"\\t\"à¤¶à¥‡à¤– à¤¸à¤¾à¤¯à¤°à¤¾à¤¬à¤¾à¤¨à¥‚ à¤…à¤²à¥€à¤¹à¤¾à¤¸à¤¨\"\\t\"2023097600000151\"']\n",
      "['5475\\t\"Winter 2023\"\\t\"B.Com Banking(with Credits)-Regular-P2023\"\\t\"First Year B.Com- Banking\"\\t\"FY Bcom-Banking\"\\t\"SEM-I\"\\t\"\"\\t1\\t\"C6532\"\\t8513\\t\"01\"\\t\"RMACS (Affiliated to Savitribai Phule Pune University)\"\\t\"\"\\t\"\"\\t0.00\\t\"001\"\\t\"Akurdi', ' Pune\"\\t356\\t0.00\\t550\\t\"Fail\"\\t64.73\\t\"VEEAT-111\"\\t\"(VEEAT-111)Environmental Awareness\"\\t2.00\\t34\\t0.00\\t50\\t\"Pass\"\\t\"TH\"\\t34\\t0.00\\t50\\t\"Pass\"\\t\"External Assessment\"\\t25\\t14.00\\t35\\t\"Pass\"\\t\"Yes\"\\t\"\"\\t\"\"\\t\"\"\\t\"08-March-2024\"\\t356\\t0.00\\t550\\t1\\t\"No Branch\"\\t\"C\"\\t\"SHAIKH SAYARABANU ALIHASAN\"\\t\"à¤¶à¥‡à¤– à¤¸à¤¾à¤¯à¤°à¤¾à¤¬à¤¾à¤¨à¥‚ à¤…à¤²à¥€à¤¹à¤¾à¤¸à¤¨\"\\t\"2023097600000151\"']\n",
      "['5475\\t\"Winter 2023\"\\t\"B.Com Banking(with Credits)-Regular-P2023\"\\t\"First Year B.Com- Banking\"\\t\"FY Bcom-Banking\"\\t\"SEM-I\"\\t\"\"\\t1\\t\"C6532\"\\t8513\\t\"01\"\\t\"RMACS (Affiliated to Savitribai Phule Pune University)\"\\t\"\"\\t\"\"\\t0.00\\t\"001\"\\t\"Akurdi', ' Pune\"\\t356\\t0.00\\t550\\t\"Fail\"\\t64.73\\t\"VEEAT-111\"\\t\"(VEEAT-111)Environmental Awareness\"\\t2.00\\t34\\t0.00\\t50\\t\"Pass\"\\t\"TH\"\\t34\\t0.00\\t50\\t\"Pass\"\\t\"Internal Assessment\"\\t9\\t6.00\\t15\\t\"Pass\"\\t\"Yes\"\\t\"\"\\t\"\"\\t\"\"\\t\"08-March-2024\"\\t356\\t0.00\\t550\\t1\\t\"No Branch\"\\t\"C\"\\t\"SHAIKH SAYARABANU ALIHASAN\"\\t\"à¤¶à¥‡à¤– à¤¸à¤¾à¤¯à¤°à¤¾à¤¬à¤¾à¤¨à¥‚ à¤…à¤²à¥€à¤¹à¤¾à¤¸à¤¨\"\\t\"2023097600000151\"']\n",
      "['5475\\t\"Winter 2023\"\\t\"B.Com Banking(with Credits)-Regular-P2023\"\\t\"First Year B.Com- Banking\"\\t\"FY Bcom-Banking\"\\t\"SEM-I\"\\t\"\"\\t1\\t\"C6532\"\\t8513\\t\"01\"\\t\"RMACS (Affiliated to Savitribai Phule Pune University)\"\\t\"\"\\t\"\"\\t0.00\\t\"001\"\\t\"Akurdi', ' Pune\"\\t356\\t0.00\\t550\\t\"Fail\"\\t64.73\\t\"COMVST-111\"\\t\"(COMVST-111)Banking and Insurance\"\\t2.00\\t30\\t0.00\\t50\\t\"Pass\"\\t\"TH\"\\t30\\t0.00\\t50\\t\"Pass\"\\t\"External Assessment\"\\t20\\t14.00\\t35\\t\"Pass\"\\t\"Yes\"\\t\"\"\\t\"\"\\t\"\"\\t\"08-March-2024\"\\t356\\t0.00\\t550\\t1\\t\"No Branch\"\\t\"C\"\\t\"SHAIKH SAYARABANU ALIHASAN\"\\t\"à¤¶à¥‡à¤– à¤¸à¤¾à¤¯à¤°à¤¾à¤¬à¤¾à¤¨à¥‚ à¤…à¤²à¥€à¤¹à¤¾à¤¸à¤¨\"\\t\"2023097600000151\"']\n",
      "['5475\\t\"Winter 2023\"\\t\"B.Com Banking(with Credits)-Regular-P2023\"\\t\"First Year B.Com- Banking\"\\t\"FY Bcom-Banking\"\\t\"SEM-I\"\\t\"\"\\t1\\t\"C6532\"\\t8513\\t\"01\"\\t\"RMACS (Affiliated to Savitribai Phule Pune University)\"\\t\"\"\\t\"\"\\t0.00\\t\"001\"\\t\"Akurdi', ' Pune\"\\t356\\t0.00\\t550\\t\"Fail\"\\t64.73\\t\"COMVST-111\"\\t\"(COMVST-111)Banking and Insurance\"\\t2.00\\t30\\t0.00\\t50\\t\"Pass\"\\t\"TH\"\\t30\\t0.00\\t50\\t\"Pass\"\\t\"Internal Assessment\"\\t10\\t6.00\\t15\\t\"Pass\"\\t\"Yes\"\\t\"\"\\t\"\"\\t\"\"\\t\"08-March-2024\"\\t356\\t0.00\\t550\\t1\\t\"No Branch\"\\t\"C\"\\t\"SHAIKH SAYARABANU ALIHASAN\"\\t\"à¤¶à¥‡à¤– à¤¸à¤¾à¤¯à¤°à¤¾à¤¬à¤¾à¤¨à¥‚ à¤…à¤²à¥€à¤¹à¤¾à¤¸à¤¨\"\\t\"2023097600000151\"']\n",
      "['5475\\t\"Winter 2023\"\\t\"B.Com Banking(with Credits)-Regular-P2023\"\\t\"First Year B.Com- Banking\"\\t\"FY Bcom-Banking\"\\t\"SEM-I\"\\t\"\"\\t1\\t\"C6532\"\\t8513\\t\"01\"\\t\"RMACS (Affiliated to Savitribai Phule Pune University)\"\\t\"\"\\t\"\"\\t0.00\\t\"001\"\\t\"Akurdi', ' Pune\"\\t356\\t0.00\\t550\\t\"Fail\"\\t64.73\\t\"CCHWT-111\"\\t\"(CCHWT-111)Health & Wellnes-I\"\\t2.00\\t45\\t0.00\\t50\\t\"Pass\"\\t\"TH\"\\t45\\t0.00\\t50\\t\"Pass\"\\t\"External Assessment\"\\t32\\t14.00\\t35\\t\"Pass\"\\t\"Yes\"\\t\"\"\\t\"\"\\t\"\"\\t\"08-March-2024\"\\t356\\t0.00\\t550\\t1\\t\"No Branch\"\\t\"C\"\\t\"SHAIKH SAYARABANU ALIHASAN\"\\t\"à¤¶à¥‡à¤– à¤¸à¤¾à¤¯à¤°à¤¾à¤¬à¤¾à¤¨à¥‚ à¤…à¤²à¥€à¤¹à¤¾à¤¸à¤¨\"\\t\"2023097600000151\"']\n",
      "['5475\\t\"Winter 2023\"\\t\"B.Com Banking(with Credits)-Regular-P2023\"\\t\"First Year B.Com- Banking\"\\t\"FY Bcom-Banking\"\\t\"SEM-I\"\\t\"\"\\t1\\t\"C6532\"\\t8513\\t\"01\"\\t\"RMACS (Affiliated to Savitribai Phule Pune University)\"\\t\"\"\\t\"\"\\t0.00\\t\"001\"\\t\"Akurdi', ' Pune\"\\t356\\t0.00\\t550\\t\"Fail\"\\t64.73\\t\"CCHWT-111\"\\t\"(CCHWT-111)Health & Wellnes-I\"\\t2.00\\t45\\t0.00\\t50\\t\"Pass\"\\t\"TH\"\\t45\\t0.00\\t50\\t\"Pass\"\\t\"Internal Assessment\"\\t13\\t6.00\\t15\\t\"Pass\"\\t\"Yes\"\\t\"\"\\t\"\"\\t\"\"\\t\"08-March-2024\"\\t356\\t0.00\\t550\\t1\\t\"No Branch\"\\t\"C\"\\t\"SHAIKH SAYARABANU ALIHASAN\"\\t\"à¤¶à¥‡à¤– à¤¸à¤¾à¤¯à¤°à¤¾à¤¬à¤¾à¤¨à¥‚ à¤…à¤²à¥€à¤¹à¤¾à¤¸à¤¨\"\\t\"2023097600000151\"']\n",
      "['5475\\t\"Winter 2023\"\\t\"B.Com Banking(with Credits)-Regular-P2023\"\\t\"First Year B.Com- Banking\"\\t\"FY Bcom-Banking\"\\t\"SEM-I\"\\t\"\"\\t1\\t\"C6532\"\\t8513\\t\"01\"\\t\"RMACS (Affiliated to Savitribai Phule Pune University)\"\\t\"\"\\t\"\"\\t0.00\\t\"001\"\\t\"Akurdi', ' Pune\"\\t356\\t0.00\\t550\\t\"Fail\"\\t64.73\\t\"PSGET-112\"\\t\"(PSGET-112)Personality Development-II\"\\t2.00\\t28\\t0.00\\t50\\t\"Pass\"\\t\"TH\"\\t28\\t0.00\\t50\\t\"Pass\"\\t\"External Assessment\"\\t19\\t14.00\\t35\\t\"Pass\"\\t\"Yes\"\\t\"\"\\t\"\"\\t\"\"\\t\"08-March-2024\"\\t356\\t0.00\\t550\\t1\\t\"No Branch\"\\t\"C\"\\t\"SHAIKH SAYARABANU ALIHASAN\"\\t\"à¤¶à¥‡à¤– à¤¸à¤¾à¤¯à¤°à¤¾à¤¬à¤¾à¤¨à¥‚ à¤…à¤²à¥€à¤¹à¤¾à¤¸à¤¨\"\\t\"2023097600000151\"']\n",
      "['5475\\t\"Winter 2023\"\\t\"B.Com Banking(with Credits)-Regular-P2023\"\\t\"First Year B.Com- Banking\"\\t\"FY Bcom-Banking\"\\t\"SEM-I\"\\t\"\"\\t1\\t\"C6532\"\\t8513\\t\"01\"\\t\"RMACS (Affiliated to Savitribai Phule Pune University)\"\\t\"\"\\t\"\"\\t0.00\\t\"001\"\\t\"Akurdi', ' Pune\"\\t356\\t0.00\\t550\\t\"Fail\"\\t64.73\\t\"PSGET-112\"\\t\"(PSGET-112)Personality Development-II\"\\t2.00\\t28\\t0.00\\t50\\t\"Pass\"\\t\"TH\"\\t28\\t0.00\\t50\\t\"Pass\"\\t\"Internal Assessment\"\\t9\\t6.00\\t15\\t\"Pass\"\\t\"Yes\"\\t\"\"\\t\"\"\\t\"\"\\t\"08-March-2024\"\\t356\\t0.00\\t550\\t1\\t\"No Branch\"\\t\"C\"\\t\"SHAIKH SAYARABANU ALIHASAN\"\\t\"à¤¶à¥‡à¤– à¤¸à¤¾à¤¯à¤°à¤¾à¤¬à¤¾à¤¨à¥‚ à¤…à¤²à¥€à¤¹à¤¾à¤¸à¤¨\"\\t\"2023097600000151\"']\n",
      "['5475\\t\"Winter 2023\"\\t\"B.Com Banking(with Credits)-Regular-P2023\"\\t\"First Year B.Com- Banking\"\\t\"FY Bcom-Banking\"\\t\"SEM-I\"\\t\"\"\\t1\\t\"C6532\"\\t8513\\t\"01\"\\t\"RMACS (Affiliated to Savitribai Phule Pune University)\"\\t\"\"\\t\"\"\\t0.00\\t\"001\"\\t\"Akurdi', ' Pune\"\\t356\\t0.00\\t550\\t\"Fail\"\\t64.73\\t\"PSGET-111\"\\t\"(PSGET-111)Personality Development-I\"\\t2.00\\t30\\t0.00\\t50\\t\"Pass\"\\t\"TH\"\\t30\\t0.00\\t50\\t\"Pass\"\\t\"External Assessment\"\\t22\\t14.00\\t35\\t\"Pass\"\\t\"Yes\"\\t\"\"\\t\"\"\\t\"\"\\t\"08-March-2024\"\\t356\\t0.00\\t550\\t1\\t\"No Branch\"\\t\"C\"\\t\"SHAIKH SAYARABANU ALIHASAN\"\\t\"à¤¶à¥‡à¤– à¤¸à¤¾à¤¯à¤°à¤¾à¤¬à¤¾à¤¨à¥‚ à¤…à¤²à¥€à¤¹à¤¾à¤¸à¤¨\"\\t\"2023097600000151\"']\n",
      "['5475\\t\"Winter 2023\"\\t\"B.Com Banking(with Credits)-Regular-P2023\"\\t\"First Year B.Com- Banking\"\\t\"FY Bcom-Banking\"\\t\"SEM-I\"\\t\"\"\\t1\\t\"C6532\"\\t8513\\t\"01\"\\t\"RMACS (Affiliated to Savitribai Phule Pune University)\"\\t\"\"\\t\"\"\\t0.00\\t\"001\"\\t\"Akurdi', ' Pune\"\\t356\\t0.00\\t550\\t\"Fail\"\\t64.73\\t\"PSGET-111\"\\t\"(PSGET-111)Personality Development-I\"\\t2.00\\t30\\t0.00\\t50\\t\"Pass\"\\t\"TH\"\\t30\\t0.00\\t50\\t\"Pass\"\\t\"Internal Assessment\"\\t8\\t6.00\\t15\\t\"Pass\"\\t\"Yes\"\\t\"\"\\t\"\"\\t\"\"\\t\"08-March-2024\"\\t356\\t0.00\\t550\\t1\\t\"No Branch\"\\t\"C\"\\t\"SHAIKH SAYARABANU ALIHASAN\"\\t\"à¤¶à¥‡à¤– à¤¸à¤¾à¤¯à¤°à¤¾à¤¬à¤¾à¤¨à¥‚ à¤…à¤²à¥€à¤¹à¤¾à¤¸à¤¨\"\\t\"2023097600000151\"']\n",
      "['5475\\t\"Winter 2023\"\\t\"B.Com Banking(with Credits)-Regular-P2023\"\\t\"First Year B.Com- Banking\"\\t\"FY Bcom-Banking\"\\t\"SEM-I\"\\t\"\"\\t1\\t\"C6532\"\\t8513\\t\"01\"\\t\"RMACS (Affiliated to Savitribai Phule Pune University)\"\\t\"\"\\t\"\"\\t0.00\\t\"001\"\\t\"Akurdi', ' Pune\"\\t356\\t0.00\\t550\\t\"Fail\"\\t64.73\\t\"COMSET-111\"\\t\"(COMSET-111)Indian Economy-I\"\\t2.00\\t42\\t0.00\\t50\\t\"Pass\"\\t\"TH\"\\t42\\t0.00\\t50\\t\"Pass\"\\t\"External Assessment\"\\t32\\t14.00\\t35\\t\"Pass\"\\t\"Yes\"\\t\"\"\\t\"\"\\t\"\"\\t\"08-March-2024\"\\t356\\t0.00\\t550\\t1\\t\"No Branch\"\\t\"C\"\\t\"SHAIKH SAYARABANU ALIHASAN\"\\t\"à¤¶à¥‡à¤– à¤¸à¤¾à¤¯à¤°à¤¾à¤¬à¤¾à¤¨à¥‚ à¤…à¤²à¥€à¤¹à¤¾à¤¸à¤¨\"\\t\"2023097600000151\"']\n",
      "['5475\\t\"Winter 2023\"\\t\"B.Com Banking(with Credits)-Regular-P2023\"\\t\"First Year B.Com- Banking\"\\t\"FY Bcom-Banking\"\\t\"SEM-I\"\\t\"\"\\t1\\t\"C6532\"\\t8513\\t\"01\"\\t\"RMACS (Affiliated to Savitribai Phule Pune University)\"\\t\"\"\\t\"\"\\t0.00\\t\"001\"\\t\"Akurdi', ' Pune\"\\t356\\t0.00\\t550\\t\"Fail\"\\t64.73\\t\"COMSET-111\"\\t\"(COMSET-111)Indian Economy-I\"\\t2.00\\t42\\t0.00\\t50\\t\"Pass\"\\t\"TH\"\\t42\\t0.00\\t50\\t\"Pass\"\\t\"Internal Assessment\"\\t10\\t6.00\\t15\\t\"Pass\"\\t\"Yes\"\\t\"\"\\t\"\"\\t\"\"\\t\"08-March-2024\"\\t356\\t0.00\\t550\\t1\\t\"No Branch\"\\t\"C\"\\t\"SHAIKH SAYARABANU ALIHASAN\"\\t\"à¤¶à¥‡à¤– à¤¸à¤¾à¤¯à¤°à¤¾à¤¬à¤¾à¤¨à¥‚ à¤…à¤²à¥€à¤¹à¤¾à¤¸à¤¨\"\\t\"2023097600000151\"']\n",
      "['5595\\t\"Winter 2023\"\\t\"B.Com Banking(with Credits)-Regular-P2023\"\\t\"First Year B.Com- Banking\"\\t\"FY Bcom-Banking\"\\t\"SEM-I\"\\t\"\"\\t1\\t\"C6575\"\\t8514\\t\"01\"\\t\"RMACS (Affiliated to Savitribai Phule Pune University)\"\\t\"\"\\t\"\"\\t0.00\\t\"001\"\\t\"Akurdi', ' Pune\"\\t422\\t0.00\\t550\\t\"Pass\"\\t76.73\\t\"ENAET-111\"\\t\"(ENAET-111)Compulsory English\"\\t2.00\\t42\\t0.00\\t50\\t\"Pass\"\\t\"TH\"\\t42\\t0.00\\t50\\t\"Pass\"\\t\"External Assessment\"\\t30\\t14.00\\t35\\t\"Pass\"\\t\"Yes\"\\t\"\"\\t\"\"\\t\"\"\\t\"08-March-2024\"\\t422\\t0.00\\t550\\t1\\t\"No Branch\"\\t\"C\"\\t\"YELWANDE TEJAL RAJU\"\\t\"à¤¯à¥‡à¤³à¤µà¤‚à¤¡à¥‡ à¤¤à¥‡à¤œà¤² à¤°à¤¾à¤œà¥‚\"\\t\"2023097600000216\"']\n",
      "['5595\\t\"Winter 2023\"\\t\"B.Com Banking(with Credits)-Regular-P2023\"\\t\"First Year B.Com- Banking\"\\t\"FY Bcom-Banking\"\\t\"SEM-I\"\\t\"\"\\t1\\t\"C6575\"\\t8514\\t\"01\"\\t\"RMACS (Affiliated to Savitribai Phule Pune University)\"\\t\"\"\\t\"\"\\t0.00\\t\"001\"\\t\"Akurdi', ' Pune\"\\t422\\t0.00\\t550\\t\"Pass\"\\t76.73\\t\"ENAET-111\"\\t\"(ENAET-111)Compulsory English\"\\t2.00\\t42\\t0.00\\t50\\t\"Pass\"\\t\"TH\"\\t42\\t0.00\\t50\\t\"Pass\"\\t\"Internal Assessment\"\\t12\\t6.00\\t15\\t\"Pass\"\\t\"Yes\"\\t\"\"\\t\"\"\\t\"\"\\t\"08-March-2024\"\\t422\\t0.00\\t550\\t1\\t\"No Branch\"\\t\"C\"\\t\"YELWANDE TEJAL RAJU\"\\t\"à¤¯à¥‡à¤³à¤µà¤‚à¤¡à¥‡ à¤¤à¥‡à¤œà¤² à¤°à¤¾à¤œà¥‚\"\\t\"2023097600000216\"']\n",
      "['5595\\t\"Winter 2023\"\\t\"B.Com Banking(with Credits)-Regular-P2023\"\\t\"First Year B.Com- Banking\"\\t\"FY Bcom-Banking\"\\t\"SEM-I\"\\t\"\"\\t1\\t\"C6575\"\\t8514\\t\"01\"\\t\"RMACS (Affiliated to Savitribai Phule Pune University)\"\\t\"\"\\t\"\"\\t0.00\\t\"001\"\\t\"Akurdi', ' Pune\"\\t422\\t0.00\\t550\\t\"Pass\"\\t76.73\\t\"COMAT-111\"\\t\"(COMAT-111)Financial Accounting-I\"\\t2.00\\t44\\t0.00\\t50\\t\"Pass\"\\t\"TH\"\\t44\\t0.00\\t50\\t\"Pass\"\\t\"External Assessment\"\\t32\\t14.00\\t35\\t\"Pass\"\\t\"Yes\"\\t\"\"\\t\"\"\\t\"\"\\t\"08-March-2024\"\\t422\\t0.00\\t550\\t1\\t\"No Branch\"\\t\"C\"\\t\"YELWANDE TEJAL RAJU\"\\t\"à¤¯à¥‡à¤³à¤µà¤‚à¤¡à¥‡ à¤¤à¥‡à¤œà¤² à¤°à¤¾à¤œà¥‚\"\\t\"2023097600000216\"']\n",
      "['5595\\t\"Winter 2023\"\\t\"B.Com Banking(with Credits)-Regular-P2023\"\\t\"First Year B.Com- Banking\"\\t\"FY Bcom-Banking\"\\t\"SEM-I\"\\t\"\"\\t1\\t\"C6575\"\\t8514\\t\"01\"\\t\"RMACS (Affiliated to Savitribai Phule Pune University)\"\\t\"\"\\t\"\"\\t0.00\\t\"001\"\\t\"Akurdi', ' Pune\"\\t422\\t0.00\\t550\\t\"Pass\"\\t76.73\\t\"COMAT-111\"\\t\"(COMAT-111)Financial Accounting-I\"\\t2.00\\t44\\t0.00\\t50\\t\"Pass\"\\t\"TH\"\\t44\\t0.00\\t50\\t\"Pass\"\\t\"Internal Assessment\"\\t12\\t6.00\\t15\\t\"Pass\"\\t\"Yes\"\\t\"\"\\t\"\"\\t\"\"\\t\"08-March-2024\"\\t422\\t0.00\\t550\\t1\\t\"No Branch\"\\t\"C\"\\t\"YELWANDE TEJAL RAJU\"\\t\"à¤¯à¥‡à¤³à¤µà¤‚à¤¡à¥‡ à¤¤à¥‡à¤œà¤² à¤°à¤¾à¤œà¥‚\"\\t\"2023097600000216\"']\n",
      "['5595\\t\"Winter 2023\"\\t\"B.Com Banking(with Credits)-Regular-P2023\"\\t\"First Year B.Com- Banking\"\\t\"FY Bcom-Banking\"\\t\"SEM-I\"\\t\"\"\\t1\\t\"C6575\"\\t8514\\t\"01\"\\t\"RMACS (Affiliated to Savitribai Phule Pune University)\"\\t\"\"\\t\"\"\\t0.00\\t\"001\"\\t\"Akurdi', ' Pune\"\\t422\\t0.00\\t550\\t\"Pass\"\\t76.73\\t\"COMAT-112\"\\t\"(COMAT-112)Fundamentals of Banking\"\\t2.00\\t37\\t0.00\\t50\\t\"Pass\"\\t\"TH\"\\t37\\t0.00\\t50\\t\"Pass\"\\t\"External Assessment\"\\t24\\t14.00\\t35\\t\"Pass\"\\t\"Yes\"\\t\"\"\\t\"\"\\t\"\"\\t\"08-March-2024\"\\t422\\t0.00\\t550\\t1\\t\"No Branch\"\\t\"C\"\\t\"YELWANDE TEJAL RAJU\"\\t\"à¤¯à¥‡à¤³à¤µà¤‚à¤¡à¥‡ à¤¤à¥‡à¤œà¤² à¤°à¤¾à¤œà¥‚\"\\t\"2023097600000216\"']\n",
      "['5595\\t\"Winter 2023\"\\t\"B.Com Banking(with Credits)-Regular-P2023\"\\t\"First Year B.Com- Banking\"\\t\"FY Bcom-Banking\"\\t\"SEM-I\"\\t\"\"\\t1\\t\"C6575\"\\t8514\\t\"01\"\\t\"RMACS (Affiliated to Savitribai Phule Pune University)\"\\t\"\"\\t\"\"\\t0.00\\t\"001\"\\t\"Akurdi', ' Pune\"\\t422\\t0.00\\t550\\t\"Pass\"\\t76.73\\t\"COMAT-112\"\\t\"(COMAT-112)Fundamentals of Banking\"\\t2.00\\t37\\t0.00\\t50\\t\"Pass\"\\t\"TH\"\\t37\\t0.00\\t50\\t\"Pass\"\\t\"Internal Assessment\"\\t13\\t6.00\\t15\\t\"Pass\"\\t\"Yes\"\\t\"\"\\t\"\"\\t\"\"\\t\"08-March-2024\"\\t422\\t0.00\\t550\\t1\\t\"No Branch\"\\t\"C\"\\t\"YELWANDE TEJAL RAJU\"\\t\"à¤¯à¥‡à¤³à¤µà¤‚à¤¡à¥‡ à¤¤à¥‡à¤œà¤² à¤°à¤¾à¤œà¥‚\"\\t\"2023097600000216\"']\n",
      "['5595\\t\"Winter 2023\"\\t\"B.Com Banking(with Credits)-Regular-P2023\"\\t\"First Year B.Com- Banking\"\\t\"FY Bcom-Banking\"\\t\"SEM-I\"\\t\"\"\\t1\\t\"C6575\"\\t8514\\t\"01\"\\t\"RMACS (Affiliated to Savitribai Phule Pune University)\"\\t\"\"\\t\"\"\\t0.00\\t\"001\"\\t\"Akurdi', ' Pune\"\\t422\\t0.00\\t550\\t\"Pass\"\\t76.73\\t\"COMAT-113\"\\t\"(COMAT-113)Business Mathematics & Statistics-I\"\\t2.00\\t43\\t0.00\\t50\\t\"Pass\"\\t\"TH\"\\t43\\t0.00\\t50\\t\"Pass\"\\t\"External Assessment\"\\t29\\t14.00\\t35\\t\"Pass\"\\t\"Yes\"\\t\"\"\\t\"\"\\t\"\"\\t\"08-March-2024\"\\t422\\t0.00\\t550\\t1\\t\"No Branch\"\\t\"C\"\\t\"YELWANDE TEJAL RAJU\"\\t\"à¤¯à¥‡à¤³à¤µà¤‚à¤¡à¥‡ à¤¤à¥‡à¤œà¤² à¤°à¤¾à¤œà¥‚\"\\t\"2023097600000216\"']\n",
      "['5595\\t\"Winter 2023\"\\t\"B.Com Banking(with Credits)-Regular-P2023\"\\t\"First Year B.Com- Banking\"\\t\"FY Bcom-Banking\"\\t\"SEM-I\"\\t\"\"\\t1\\t\"C6575\"\\t8514\\t\"01\"\\t\"RMACS (Affiliated to Savitribai Phule Pune University)\"\\t\"\"\\t\"\"\\t0.00\\t\"001\"\\t\"Akurdi', ' Pune\"\\t422\\t0.00\\t550\\t\"Pass\"\\t76.73\\t\"COMAT-113\"\\t\"(COMAT-113)Business Mathematics & Statistics-I\"\\t2.00\\t43\\t0.00\\t50\\t\"Pass\"\\t\"TH\"\\t43\\t0.00\\t50\\t\"Pass\"\\t\"Internal Assessment\"\\t14\\t6.00\\t15\\t\"Pass\"\\t\"Yes\"\\t\"\"\\t\"\"\\t\"\"\\t\"08-March-2024\"\\t422\\t0.00\\t550\\t1\\t\"No Branch\"\\t\"C\"\\t\"YELWANDE TEJAL RAJU\"\\t\"à¤¯à¥‡à¤³à¤µà¤‚à¤¡à¥‡ à¤¤à¥‡à¤œà¤² à¤°à¤¾à¤œà¥‚\"\\t\"2023097600000216\"']\n",
      "['5595\\t\"Winter 2023\"\\t\"B.Com Banking(with Credits)-Regular-P2023\"\\t\"First Year B.Com- Banking\"\\t\"FY Bcom-Banking\"\\t\"SEM-I\"\\t\"\"\\t1\\t\"C6575\"\\t8514\\t\"01\"\\t\"RMACS (Affiliated to Savitribai Phule Pune University)\"\\t\"\"\\t\"\"\\t0.00\\t\"001\"\\t\"Akurdi', ' Pune\"\\t422\\t0.00\\t550\\t\"Pass\"\\t76.73\\t\"COMIKT-111\"\\t\"(COMIKT-111)Indian Ethos in Management-I\"\\t2.00\\t31\\t0.00\\t50\\t\"Pass\"\\t\"TH\"\\t31\\t0.00\\t50\\t\"Pass\"\\t\"External Assessment\"\\t18\\t14.00\\t35\\t\"Pass\"\\t\"Yes\"\\t\"\"\\t\"\"\\t\"\"\\t\"08-March-2024\"\\t422\\t0.00\\t550\\t1\\t\"No Branch\"\\t\"C\"\\t\"YELWANDE TEJAL RAJU\"\\t\"à¤¯à¥‡à¤³à¤µà¤‚à¤¡à¥‡ à¤¤à¥‡à¤œà¤² à¤°à¤¾à¤œà¥‚\"\\t\"2023097600000216\"']\n",
      "['5595\\t\"Winter 2023\"\\t\"B.Com Banking(with Credits)-Regular-P2023\"\\t\"First Year B.Com- Banking\"\\t\"FY Bcom-Banking\"\\t\"SEM-I\"\\t\"\"\\t1\\t\"C6575\"\\t8514\\t\"01\"\\t\"RMACS (Affiliated to Savitribai Phule Pune University)\"\\t\"\"\\t\"\"\\t0.00\\t\"001\"\\t\"Akurdi', ' Pune\"\\t422\\t0.00\\t550\\t\"Pass\"\\t76.73\\t\"COMIKT-111\"\\t\"(COMIKT-111)Indian Ethos in Management-I\"\\t2.00\\t31\\t0.00\\t50\\t\"Pass\"\\t\"TH\"\\t31\\t0.00\\t50\\t\"Pass\"\\t\"Internal Assessment\"\\t13\\t6.00\\t15\\t\"Pass\"\\t\"Yes\"\\t\"\"\\t\"\"\\t\"\"\\t\"08-March-2024\"\\t422\\t0.00\\t550\\t1\\t\"No Branch\"\\t\"C\"\\t\"YELWANDE TEJAL RAJU\"\\t\"à¤¯à¥‡à¤³à¤µà¤‚à¤¡à¥‡ à¤¤à¥‡à¤œà¤² à¤°à¤¾à¤œà¥‚\"\\t\"2023097600000216\"']\n",
      "['5595\\t\"Winter 2023\"\\t\"B.Com Banking(with Credits)-Regular-P2023\"\\t\"First Year B.Com- Banking\"\\t\"FY Bcom-Banking\"\\t\"SEM-I\"\\t\"\"\\t1\\t\"C6575\"\\t8514\\t\"01\"\\t\"RMACS (Affiliated to Savitribai Phule Pune University)\"\\t\"\"\\t\"\"\\t0.00\\t\"001\"\\t\"Akurdi', ' Pune\"\\t422\\t0.00\\t550\\t\"Pass\"\\t76.73\\t\"VEEAT-111\"\\t\"(VEEAT-111)Environmental Awareness\"\\t2.00\\t37\\t0.00\\t50\\t\"Pass\"\\t\"TH\"\\t37\\t0.00\\t50\\t\"Pass\"\\t\"External Assessment\"\\t24\\t14.00\\t35\\t\"Pass\"\\t\"Yes\"\\t\"\"\\t\"\"\\t\"\"\\t\"08-March-2024\"\\t422\\t0.00\\t550\\t1\\t\"No Branch\"\\t\"C\"\\t\"YELWANDE TEJAL RAJU\"\\t\"à¤¯à¥‡à¤³à¤µà¤‚à¤¡à¥‡ à¤¤à¥‡à¤œà¤² à¤°à¤¾à¤œà¥‚\"\\t\"2023097600000216\"']\n",
      "['5595\\t\"Winter 2023\"\\t\"B.Com Banking(with Credits)-Regular-P2023\"\\t\"First Year B.Com- Banking\"\\t\"FY Bcom-Banking\"\\t\"SEM-I\"\\t\"\"\\t1\\t\"C6575\"\\t8514\\t\"01\"\\t\"RMACS (Affiliated to Savitribai Phule Pune University)\"\\t\"\"\\t\"\"\\t0.00\\t\"001\"\\t\"Akurdi', ' Pune\"\\t422\\t0.00\\t550\\t\"Pass\"\\t76.73\\t\"VEEAT-111\"\\t\"(VEEAT-111)Environmental Awareness\"\\t2.00\\t37\\t0.00\\t50\\t\"Pass\"\\t\"TH\"\\t37\\t0.00\\t50\\t\"Pass\"\\t\"Internal Assessment\"\\t13\\t6.00\\t15\\t\"Pass\"\\t\"Yes\"\\t\"\"\\t\"\"\\t\"\"\\t\"08-March-2024\"\\t422\\t0.00\\t550\\t1\\t\"No Branch\"\\t\"C\"\\t\"YELWANDE TEJAL RAJU\"\\t\"à¤¯à¥‡à¤³à¤µà¤‚à¤¡à¥‡ à¤¤à¥‡à¤œà¤² à¤°à¤¾à¤œà¥‚\"\\t\"2023097600000216\"']\n",
      "['5595\\t\"Winter 2023\"\\t\"B.Com Banking(with Credits)-Regular-P2023\"\\t\"First Year B.Com- Banking\"\\t\"FY Bcom-Banking\"\\t\"SEM-I\"\\t\"\"\\t1\\t\"C6575\"\\t8514\\t\"01\"\\t\"RMACS (Affiliated to Savitribai Phule Pune University)\"\\t\"\"\\t\"\"\\t0.00\\t\"001\"\\t\"Akurdi', ' Pune\"\\t422\\t0.00\\t550\\t\"Pass\"\\t76.73\\t\"COMVST-111\"\\t\"(COMVST-111)Banking and Insurance\"\\t2.00\\t28\\t0.00\\t50\\t\"Pass\"\\t\"TH\"\\t28\\t0.00\\t50\\t\"Pass\"\\t\"External Assessment\"\\t16\\t14.00\\t35\\t\"Pass\"\\t\"Yes\"\\t\"\"\\t\"\"\\t\"\"\\t\"08-March-2024\"\\t422\\t0.00\\t550\\t1\\t\"No Branch\"\\t\"C\"\\t\"YELWANDE TEJAL RAJU\"\\t\"à¤¯à¥‡à¤³à¤µà¤‚à¤¡à¥‡ à¤¤à¥‡à¤œà¤² à¤°à¤¾à¤œà¥‚\"\\t\"2023097600000216\"']\n",
      "['5595\\t\"Winter 2023\"\\t\"B.Com Banking(with Credits)-Regular-P2023\"\\t\"First Year B.Com- Banking\"\\t\"FY Bcom-Banking\"\\t\"SEM-I\"\\t\"\"\\t1\\t\"C6575\"\\t8514\\t\"01\"\\t\"RMACS (Affiliated to Savitribai Phule Pune University)\"\\t\"\"\\t\"\"\\t0.00\\t\"001\"\\t\"Akurdi', ' Pune\"\\t422\\t0.00\\t550\\t\"Pass\"\\t76.73\\t\"COMVST-111\"\\t\"(COMVST-111)Banking and Insurance\"\\t2.00\\t28\\t0.00\\t50\\t\"Pass\"\\t\"TH\"\\t28\\t0.00\\t50\\t\"Pass\"\\t\"Internal Assessment\"\\t12\\t6.00\\t15\\t\"Pass\"\\t\"Yes\"\\t\"\"\\t\"\"\\t\"\"\\t\"08-March-2024\"\\t422\\t0.00\\t550\\t1\\t\"No Branch\"\\t\"C\"\\t\"YELWANDE TEJAL RAJU\"\\t\"à¤¯à¥‡à¤³à¤µà¤‚à¤¡à¥‡ à¤¤à¥‡à¤œà¤² à¤°à¤¾à¤œà¥‚\"\\t\"2023097600000216\"']\n",
      "['5595\\t\"Winter 2023\"\\t\"B.Com Banking(with Credits)-Regular-P2023\"\\t\"First Year B.Com- Banking\"\\t\"FY Bcom-Banking\"\\t\"SEM-I\"\\t\"\"\\t1\\t\"C6575\"\\t8514\\t\"01\"\\t\"RMACS (Affiliated to Savitribai Phule Pune University)\"\\t\"\"\\t\"\"\\t0.00\\t\"001\"\\t\"Akurdi', ' Pune\"\\t422\\t0.00\\t550\\t\"Pass\"\\t76.73\\t\"CCHWT-111\"\\t\"(CCHWT-111)Health & Wellnes-I\"\\t2.00\\t39\\t0.00\\t50\\t\"Pass\"\\t\"TH\"\\t39\\t0.00\\t50\\t\"Pass\"\\t\"External Assessment\"\\t28\\t14.00\\t35\\t\"Pass\"\\t\"Yes\"\\t\"\"\\t\"\"\\t\"\"\\t\"08-March-2024\"\\t422\\t0.00\\t550\\t1\\t\"No Branch\"\\t\"C\"\\t\"YELWANDE TEJAL RAJU\"\\t\"à¤¯à¥‡à¤³à¤µà¤‚à¤¡à¥‡ à¤¤à¥‡à¤œà¤² à¤°à¤¾à¤œà¥‚\"\\t\"2023097600000216\"']\n",
      "['5595\\t\"Winter 2023\"\\t\"B.Com Banking(with Credits)-Regular-P2023\"\\t\"First Year B.Com- Banking\"\\t\"FY Bcom-Banking\"\\t\"SEM-I\"\\t\"\"\\t1\\t\"C6575\"\\t8514\\t\"01\"\\t\"RMACS (Affiliated to Savitribai Phule Pune University)\"\\t\"\"\\t\"\"\\t0.00\\t\"001\"\\t\"Akurdi', ' Pune\"\\t422\\t0.00\\t550\\t\"Pass\"\\t76.73\\t\"CCHWT-111\"\\t\"(CCHWT-111)Health & Wellnes-I\"\\t2.00\\t39\\t0.00\\t50\\t\"Pass\"\\t\"TH\"\\t39\\t0.00\\t50\\t\"Pass\"\\t\"Internal Assessment\"\\t11\\t6.00\\t15\\t\"Pass\"\\t\"Yes\"\\t\"\"\\t\"\"\\t\"\"\\t\"08-March-2024\"\\t422\\t0.00\\t550\\t1\\t\"No Branch\"\\t\"C\"\\t\"YELWANDE TEJAL RAJU\"\\t\"à¤¯à¥‡à¤³à¤µà¤‚à¤¡à¥‡ à¤¤à¥‡à¤œà¤² à¤°à¤¾à¤œà¥‚\"\\t\"2023097600000216\"']\n",
      "['5595\\t\"Winter 2023\"\\t\"B.Com Banking(with Credits)-Regular-P2023\"\\t\"First Year B.Com- Banking\"\\t\"FY Bcom-Banking\"\\t\"SEM-I\"\\t\"\"\\t1\\t\"C6575\"\\t8514\\t\"01\"\\t\"RMACS (Affiliated to Savitribai Phule Pune University)\"\\t\"\"\\t\"\"\\t0.00\\t\"001\"\\t\"Akurdi', ' Pune\"\\t422\\t0.00\\t550\\t\"Pass\"\\t76.73\\t\"COMSET-111\"\\t\"(COMSET-111)Indian Economy-I\"\\t2.00\\t37\\t0.00\\t50\\t\"Pass\"\\t\"TH\"\\t37\\t0.00\\t50\\t\"Pass\"\\t\"External Assessment\"\\t24\\t14.00\\t35\\t\"Pass\"\\t\"Yes\"\\t\"\"\\t\"\"\\t\"\"\\t\"08-March-2024\"\\t422\\t0.00\\t550\\t1\\t\"No Branch\"\\t\"C\"\\t\"YELWANDE TEJAL RAJU\"\\t\"à¤¯à¥‡à¤³à¤µà¤‚à¤¡à¥‡ à¤¤à¥‡à¤œà¤² à¤°à¤¾à¤œà¥‚\"\\t\"2023097600000216\"']\n",
      "['5595\\t\"Winter 2023\"\\t\"B.Com Banking(with Credits)-Regular-P2023\"\\t\"First Year B.Com- Banking\"\\t\"FY Bcom-Banking\"\\t\"SEM-I\"\\t\"\"\\t1\\t\"C6575\"\\t8514\\t\"01\"\\t\"RMACS (Affiliated to Savitribai Phule Pune University)\"\\t\"\"\\t\"\"\\t0.00\\t\"001\"\\t\"Akurdi', ' Pune\"\\t422\\t0.00\\t550\\t\"Pass\"\\t76.73\\t\"COMSET-111\"\\t\"(COMSET-111)Indian Economy-I\"\\t2.00\\t37\\t0.00\\t50\\t\"Pass\"\\t\"TH\"\\t37\\t0.00\\t50\\t\"Pass\"\\t\"Internal Assessment\"\\t13\\t6.00\\t15\\t\"Pass\"\\t\"Yes\"\\t\"\"\\t\"\"\\t\"\"\\t\"08-March-2024\"\\t422\\t0.00\\t550\\t1\\t\"No Branch\"\\t\"C\"\\t\"YELWANDE TEJAL RAJU\"\\t\"à¤¯à¥‡à¤³à¤µà¤‚à¤¡à¥‡ à¤¤à¥‡à¤œà¤² à¤°à¤¾à¤œà¥‚\"\\t\"2023097600000216\"']\n",
      "['5595\\t\"Winter 2023\"\\t\"B.Com Banking(with Credits)-Regular-P2023\"\\t\"First Year B.Com- Banking\"\\t\"FY Bcom-Banking\"\\t\"SEM-I\"\\t\"\"\\t1\\t\"C6575\"\\t8514\\t\"01\"\\t\"RMACS (Affiliated to Savitribai Phule Pune University)\"\\t\"\"\\t\"\"\\t0.00\\t\"001\"\\t\"Akurdi', ' Pune\"\\t422\\t0.00\\t550\\t\"Pass\"\\t76.73\\t\"PHGEP-112\"\\t\"(PHGEP-112)Excel for Scientist and Analytics Lab-I\"\\t2.00\\t41\\t0.00\\t50\\t\"Pass\"\\t\"TH\"\\t41\\t0.00\\t50\\t\"Pass\"\\t\"External Assessment\"\\t28\\t14.00\\t35\\t\"Pass\"\\t\"Yes\"\\t\"\"\\t\"\"\\t\"\"\\t\"08-March-2024\"\\t422\\t0.00\\t550\\t1\\t\"No Branch\"\\t\"C\"\\t\"YELWANDE TEJAL RAJU\"\\t\"à¤¯à¥‡à¤³à¤µà¤‚à¤¡à¥‡ à¤¤à¥‡à¤œà¤² à¤°à¤¾à¤œà¥‚\"\\t\"2023097600000216\"']\n",
      "['5595\\t\"Winter 2023\"\\t\"B.Com Banking(with Credits)-Regular-P2023\"\\t\"First Year B.Com- Banking\"\\t\"FY Bcom-Banking\"\\t\"SEM-I\"\\t\"\"\\t1\\t\"C6575\"\\t8514\\t\"01\"\\t\"RMACS (Affiliated to Savitribai Phule Pune University)\"\\t\"\"\\t\"\"\\t0.00\\t\"001\"\\t\"Akurdi', ' Pune\"\\t422\\t0.00\\t550\\t\"Pass\"\\t76.73\\t\"PHGEP-112\"\\t\"(PHGEP-112)Excel for Scientist and Analytics Lab-I\"\\t2.00\\t41\\t0.00\\t50\\t\"Pass\"\\t\"TH\"\\t41\\t0.00\\t50\\t\"Pass\"\\t\"Internal Assessment\"\\t13\\t6.00\\t15\\t\"Pass\"\\t\"Yes\"\\t\"\"\\t\"\"\\t\"\"\\t\"08-March-2024\"\\t422\\t0.00\\t550\\t1\\t\"No Branch\"\\t\"C\"\\t\"YELWANDE TEJAL RAJU\"\\t\"à¤¯à¥‡à¤³à¤µà¤‚à¤¡à¥‡ à¤¤à¥‡à¤œà¤² à¤°à¤¾à¤œà¥‚\"\\t\"2023097600000216\"']\n"
     ]
    },
    {
     "ename": "UnicodeDecodeError",
     "evalue": "'charmap' codec can't decode byte 0x81 in position 1434: character maps to <undefined>",
     "output_type": "error",
     "traceback": [
      "\u001b[1;31m---------------------------------------------------------------------------\u001b[0m",
      "\u001b[1;31mUnicodeDecodeError\u001b[0m                        Traceback (most recent call last)",
      "Cell \u001b[1;32mIn [2], line 4\u001b[0m\n\u001b[0;32m      2\u001b[0m \u001b[38;5;28;01mwith\u001b[39;00m \u001b[38;5;28mopen\u001b[39m(\u001b[38;5;124m'\u001b[39m\u001b[38;5;124mtest/ExamEventData.csv\u001b[39m\u001b[38;5;124m'\u001b[39m,\u001b[38;5;124m'\u001b[39m\u001b[38;5;124mr\u001b[39m\u001b[38;5;124m'\u001b[39m) \u001b[38;5;28;01mas\u001b[39;00m file:\n\u001b[0;32m      3\u001b[0m     csv_file \u001b[38;5;241m=\u001b[39m csv\u001b[38;5;241m.\u001b[39mreader(file,delimiter\u001b[38;5;241m=\u001b[39m\u001b[38;5;124m'\u001b[39m\u001b[38;5;124m,\u001b[39m\u001b[38;5;124m'\u001b[39m)\n\u001b[1;32m----> 4\u001b[0m     \u001b[38;5;28;01mfor\u001b[39;00m ele \u001b[38;5;129;01min\u001b[39;00m csv_file:\n\u001b[0;32m      5\u001b[0m         \u001b[38;5;28mprint\u001b[39m(ele)\n",
      "File \u001b[1;32mc:\\Users\\debeer\\AppData\\Local\\Programs\\Python\\Python310\\lib\\encodings\\cp1252.py:23\u001b[0m, in \u001b[0;36mIncrementalDecoder.decode\u001b[1;34m(self, input, final)\u001b[0m\n\u001b[0;32m     22\u001b[0m \u001b[38;5;28;01mdef\u001b[39;00m \u001b[38;5;21mdecode\u001b[39m(\u001b[38;5;28mself\u001b[39m, \u001b[38;5;28minput\u001b[39m, final\u001b[38;5;241m=\u001b[39m\u001b[38;5;28;01mFalse\u001b[39;00m):\n\u001b[1;32m---> 23\u001b[0m     \u001b[38;5;28;01mreturn\u001b[39;00m \u001b[43mcodecs\u001b[49m\u001b[38;5;241;43m.\u001b[39;49m\u001b[43mcharmap_decode\u001b[49m\u001b[43m(\u001b[49m\u001b[38;5;28;43minput\u001b[39;49m\u001b[43m,\u001b[49m\u001b[38;5;28;43mself\u001b[39;49m\u001b[38;5;241;43m.\u001b[39;49m\u001b[43merrors\u001b[49m\u001b[43m,\u001b[49m\u001b[43mdecoding_table\u001b[49m\u001b[43m)\u001b[49m[\u001b[38;5;241m0\u001b[39m]\n",
      "\u001b[1;31mUnicodeDecodeError\u001b[0m: 'charmap' codec can't decode byte 0x81 in position 1434: character maps to <undefined>"
     ]
    }
   ],
   "source": [
    "import csv\n",
    "with open('test/ExamEventData.csv','r') as file:\n",
    "    csv_file = csv.reader(file,delimiter=',')\n",
    "    for ele in csv_file:\n",
    "        print(ele)"
   ]
  },
  {
   "cell_type": "markdown",
   "metadata": {},
   "source": [
    "3. What modes do File objects for reader and writer objects need to be opened in?\n",
    "\n",
    "Ans: For csv.reader(iterable_file_object), the file objects needed to be opened in read mode mode='r' Whereas for csv.writer(iterable_file_object) the file objects needed to be opened in write mode mode='w'"
   ]
  },
  {
   "cell_type": "markdown",
   "metadata": {},
   "source": [
    "4. What method takes a list argument and writes it to a CSV file?\n",
    "\n",
    "Ans: csv.writer class provides two methods for writing to CSV. They are writerow() and writerows(). writerow() method writes a single row at a time. Whereas writerows() method is used to write multiple rows at a time."
   ]
  },
  {
   "cell_type": "code",
   "execution_count": 3,
   "metadata": {},
   "outputs": [],
   "source": [
    "# Example Program\n",
    "import csv      \n",
    "fields = ['Name', 'Branch', 'Year', 'CGPA'] #column names \n",
    "rows = [ \n",
    "            ['Nikhil', 'COE', '2', '9.0'],  # data rows of csv file \n",
    "            ['Sanchit', 'COE', '2', '9.1'], \n",
    "            ['Ravi', 'IT', '2', '9.3']\n",
    "       ] \n",
    "with open(\"test/university_records.csv\", 'w') as csvfile: \n",
    "    csvwriter = csv.writer(csvfile) # creating a csv writer object \n",
    "    csvwriter.writerow(fields) # writing the fields \n",
    "    csvwriter.writerows(rows) # writing the data rows "
   ]
  },
  {
   "cell_type": "markdown",
   "metadata": {},
   "source": [
    "5. What do the keyword arguments delimiter and line terminator do?\n",
    "\n",
    "Ans: Lets take the example of a csv file:\n",
    "First Name, Last Name, Age\n",
    "Mano, Vishnu, 24\n",
    "Vishnu, Vardhan, 21\n",
    "Here ',' is Delimiter. We can use any Character as per our needs if required. Similarly Line Terminator comes at end of line by default it is newline and can be changed accourding to Requirement."
   ]
  },
  {
   "cell_type": "markdown",
   "metadata": {},
   "source": [
    "6. What function takes a string of JSON data and returns a Python data structure?\n",
    "\n",
    "Ans: loads() method takes a string of JSON data and returns a Python data structure"
   ]
  },
  {
   "cell_type": "code",
   "execution_count": 4,
   "metadata": {},
   "outputs": [
    {
     "name": "stdout",
     "output_type": "stream",
     "text": [
      "{\n",
      "    \"Name\": \"Mano Vishnu\",\n",
      "    \"Qualification\": \"Bachelor of Technology\",\n",
      "    \"Stream\": \"Computer Science and Engineering\"\n",
      "}\n",
      "Type of my_details_json is <class 'str'>\n",
      "{'Name': 'Mano Vishnu', 'Qualification': 'Bachelor of Technology', 'Stream': 'Computer Science and Engineering'}\n",
      "Type of my_details is <class 'dict'>\n"
     ]
    }
   ],
   "source": [
    "# Example of json.loads() method\n",
    "import json\n",
    "my_details_json ='''{\n",
    "    \"Name\": \"Mano Vishnu\",\n",
    "    \"Qualification\": \"Bachelor of Technology\",\n",
    "    \"Stream\": \"Computer Science and Engineering\"\n",
    "}'''\n",
    "print(my_details_json)\n",
    "print(f'Type of my_details_json is {type(my_details_json)}')\n",
    "my_details = json.loads(my_details_json)\n",
    "print(my_details)\n",
    "print(f'Type of my_details is {type(my_details)}')"
   ]
  },
  {
   "cell_type": "markdown",
   "metadata": {},
   "source": [
    "7. What function takes a Python data structure and returns a string of JSON data?\n",
    "\n",
    "Ans: dumps() method takes a python data structure and returns a string of JSON data"
   ]
  },
  {
   "cell_type": "code",
   "execution_count": 6,
   "metadata": {},
   "outputs": [
    {
     "name": "stdout",
     "output_type": "stream",
     "text": [
      "{'Name': 'Mano Vishnu', 'Stream': 'Computer Science and Engineering', 'Qualification': 'Bachelor of Technology'}\n",
      "Type of my_details is <class 'dict'>\n",
      "{\n",
      "\t\"Name\": \"Mano Vishnu\",\n",
      "\t\"Qualification\": \"Bachelor of Technology\",\n",
      "\t\"Stream\": \"Computer Science and Engineering\"\n",
      "}\n",
      "Type of my_details_json is <class 'str'>\n"
     ]
    }
   ],
   "source": [
    "# Example of json.dumps() method\n",
    "import json\n",
    "my_details = {\n",
    "    'Name':'Mano Vishnu',\n",
    "    'Stream':'Computer Science and Engineering',\n",
    "    'Qualification':'Bachelor of Technology'\n",
    "}\n",
    "print(my_details)\n",
    "print(f'Type of my_details is {type(my_details)}')\n",
    "my_details_json = json.dumps(my_details, indent='\\t', sort_keys=True)\n",
    "print(my_details_json)\n",
    "print(f'Type of my_details_json is {type(my_details_json)}')"
   ]
  }
 ],
 "metadata": {
  "kernelspec": {
   "display_name": "Python 3",
   "language": "python",
   "name": "python3"
  },
  "language_info": {
   "codemirror_mode": {
    "name": "ipython",
    "version": 3
   },
   "file_extension": ".py",
   "mimetype": "text/x-python",
   "name": "python",
   "nbconvert_exporter": "python",
   "pygments_lexer": "ipython3",
   "version": "3.10.7"
  }
 },
 "nbformat": 4,
 "nbformat_minor": 2
}
