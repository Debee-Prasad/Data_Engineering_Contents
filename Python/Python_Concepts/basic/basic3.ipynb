{
 "cells": [
  {
   "cell_type": "markdown",
   "metadata": {},
   "source": [
    "1. Why are functions advantageous to have in your programs?"
   ]
  },
  {
   "cell_type": "markdown",
   "metadata": {},
   "source": [
    "Ans: Functions reduce the need for duplicate code. This makes programs shorter, easier to read and easier to maintainance . The main advantage of functions is code Reusability."
   ]
  },
  {
   "cell_type": "markdown",
   "metadata": {},
   "source": [
    "2. When does the code in a function run: when it's specified or when it's called?\n",
    "\n",
    "Ans: The code in a function executes when the function is called, not when the function is specified."
   ]
  },
  {
   "cell_type": "markdown",
   "metadata": {},
   "source": [
    "3. What statement creates a function?\n",
    "\n",
    "Ans: The def statement defines a function\n",
    "\n",
    "Syntax of Function:\n",
    "\n",
    "def function_name(parameters):   \n",
    "  \"\"\"doc string : the info regarding the function like input return type and other\"\"\"            \n",
    "     -----function body-----     -----function body-----   \n",
    "     return value"
   ]
  },
  {
   "cell_type": "markdown",
   "metadata": {},
   "source": [
    "4. What is the difference between a function and a function call?\n",
    "\n",
    "Ans: A function is procedure to achieve a particular result. while function call is using this function to achive that task. Using a function to do a particular task any point in program is called as function call."
   ]
  },
  {
   "cell_type": "markdown",
   "metadata": {},
   "source": [
    "5. How many global scopes are there in a Python program? How many local scopes?\n",
    "\n",
    "Ans: There is one global scope, and a local scope is created whenever a function is called."
   ]
  },
  {
   "cell_type": "markdown",
   "metadata": {},
   "source": [
    "6. What happens to variables in a local scope when the function call returns?\n",
    "\n",
    "Ans: When a function returns, the local scope is destroyed, and all the variables in it are forgotten."
   ]
  },
  {
   "cell_type": "markdown",
   "metadata": {},
   "source": [
    "7. How memory is managed at the stack and heap level in python ?\n",
    " \n",
    "Ans: In Python, memory management at the heap and stack level is handled by the Python memory manager and is abstracted away from the programmer. Python's memory manager takes care of allocating memory for objects (on the heap) and managing their lifetimes, including garbage collection. However, it's still useful to understand the concepts of the heap and stack in the context of Python memory management.\n",
    "\n",
    "Heap:\n",
    "\n",
    "1. The heap is where dynamically allocated memory resides. In Python, all objects (e.g., integers, strings, lists, custom objects) are \n",
    "   allocated on the heap.\n",
    "2. When you create an object in Python using, for example, x = 10 or my_list = [1, 2, 3], memory for that object is allocated on the heap.\n",
    "3. Python's memory manager handles memory allocation and deallocation for objects on the heap, including garbage collection when objects are no\n",
    "   longer in use.\n",
    "\n",
    "Stack:\n",
    "\n",
    "1. The stack is used for function call management and local variables within functions.\n",
    "2. When a function is called, a stack frame is created to store local variables, function arguments, and the return address.\n",
    "3. Each time a function is called, a new stack frame is added on top of the stack.\n",
    "4. When the function returns, its stack frame is removed from the stack.\n",
    "5. Local variables defined within a function are typically stored on the stack.\n",
    "\n",
    "In Python, variables themselves (including references to objects) are stored on the stack, while the objects they reference are stored on the heap. When a function is called, space for its local variables is allocated on the stack, but objects created within the function (such as lists or dictionaries) are allocated on the heap.\n",
    "\n",
    "The Python memory manager handles memory management at both the heap and stack levels, ensuring that objects are properly allocated and deallocated, and that stack frames are managed efficiently during function calls."
   ]
  },
  {
   "cell_type": "markdown",
   "metadata": {},
   "source": [
    "7. What is the concept of a return value? Is it possible to have a return value in an expression?\n",
    "\n",
    "Ans: A return value is the value that a function call evaluates to. Like any value, a return value can be used as part of an expression."
   ]
  },
  {
   "cell_type": "markdown",
   "metadata": {},
   "source": [
    "\n",
    "8. If a function does not have a return statement, what is the return value of a call to that function?\n",
    "\n",
    "Ans: If there is no return statement for a function, its return value is None."
   ]
  },
  {
   "cell_type": "markdown",
   "metadata": {},
   "source": [
    "9. How do you make a function variable refer to the global variable?\n",
    "\n",
    "Ans: A global statement will force a variable in a function to refer to the global variable. If you want to refer to a global variable in a function, you can use the global keyword to declare which variables are global."
   ]
  },
  {
   "cell_type": "markdown",
   "metadata": {},
   "source": [
    "13. What can you do to save a programme from crashing if it encounters an error?\n",
    "Ans: Place the line of code that might cause an error in a try clause and use except block to handle the error.\n",
    "\n",
    "14. What is the purpose of the try clause? What is the purpose of the except clause?\n",
    "ANS:The code that could potentially cause an error goes in the try clause. The code that executes if an error happens goes in the except clause."
   ]
  }
 ],
 "metadata": {
  "language_info": {
   "name": "python"
  }
 },
 "nbformat": 4,
 "nbformat_minor": 2
}
