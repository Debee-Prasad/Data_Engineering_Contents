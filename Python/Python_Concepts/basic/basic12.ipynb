{
 "cells": [
  {
   "cell_type": "markdown",
   "metadata": {},
   "source": [
    "1. In what modes should the PdfFileReader() and PdfFileWriter() File objects will be opened?\n",
    "\n",
    "Ans: For PdfFileReader() file objects should be opened in rb -> read binary mode, Whereas for PdfFileWriter() file objects should be opened in wb -> write binary mode."
   ]
  },
  {
   "cell_type": "markdown",
   "metadata": {},
   "source": [
    "2. From a PdfFileReader object, how do you get a Page object for page 5?\n",
    "\n",
    "Ans: PdfFileReader class provides a method called getPage(page_no) to get a page object."
   ]
  },
  {
   "cell_type": "code",
   "execution_count": 2,
   "metadata": {},
   "outputs": [
    {
     "name": "stdout",
     "output_type": "stream",
     "text": [
      "Collecting PyPDF2\n",
      "  Downloading pypdf2-3.0.1-py3-none-any.whl (232 kB)\n",
      "     -------------------------------------- 232.6/232.6 kB 1.8 MB/s eta 0:00:00\n",
      "Installing collected packages: PyPDF2\n",
      "Successfully installed PyPDF2-3.0.1\n",
      "Note: you may need to restart the kernel to use updated packages.\n"
     ]
    },
    {
     "name": "stderr",
     "output_type": "stream",
     "text": [
      "\n",
      "[notice] A new release of pip available: 22.2.2 -> 24.0\n",
      "[notice] To update, run: python.exe -m pip install --upgrade pip\n"
     ]
    }
   ],
   "source": [
    "pip install PyPDF2"
   ]
  },
  {
   "cell_type": "code",
   "execution_count": 15,
   "metadata": {},
   "outputs": [
    {
     "name": "stdout",
     "output_type": "stream",
     "text": [
      "Page 1:\n",
      "&KLHI\u0003([HFXWLYH\u00032IILFHU\u0003\u000b&(2\f &KLHI\u0003([HFXWLYH\u00032IILFHU\u0003\u000b&(2\f\n",
      "\n"
     ]
    }
   ],
   "source": [
    "# Example Code:\n",
    "from PyPDF2 import PdfReader\n",
    "file_path = r\"C:\\Users\\debeer\\Downloads\\Reimbursement_of_Expenses (1).pdf\"\n",
    "pdf_reader = PdfReader(file_path)\n",
    "\n",
    "for page_number, page in enumerate(pdf_reader.pages, start=1):\n",
    "    print(f\"Page {page_number}:\")\n",
    "    print(page)"
   ]
  },
  {
   "cell_type": "markdown",
   "metadata": {},
   "source": [
    "3. What PdfFileReader variable stores the number of pages in the PDF document?\n",
    "\n",
    "Ans: getNumPages() method of PdfFileReader class stores the no pages in a PDF document"
   ]
  },
  {
   "cell_type": "code",
   "execution_count": 9,
   "metadata": {},
   "outputs": [
    {
     "name": "stdout",
     "output_type": "stream",
     "text": [
      "1\n"
     ]
    }
   ],
   "source": [
    "#Example Code:\n",
    "from PyPDF2 import PdfReader\n",
    "file_path = r\"C:\\Users\\debeer\\Downloads\\Reimbursement_of_Expenses (1).pdf\"\n",
    "pdf_reader = PdfReader(file_path)\n",
    "print(len(pdf_reader.pages)) # Prints the no of pages in a input document"
   ]
  },
  {
   "cell_type": "markdown",
   "metadata": {},
   "source": [
    "4. If a PdfReader object’s PDF is encrypted with the password swordfish, what must you do before you can obtain Page objects from it?\n",
    "\n",
    "Ans: If a PdfReader object’s PDF is encrypted with the password swordfish and you're not aware of it. first read the Pdf using the PdfReader Class. PdfReader class provides a attribute called isEncrypted to check whether a pdf is encrypted or not. the method returns true if a pdf is encrypted and vice versa.\n",
    "if pdf is encrypted use the decrypt() method provided by PdfFileReader class first then try to read the contents/pages of the pdf, else PyPDF2 will raise the following error PyPDF2.utils.PdfReadError: file has not been decrypted"
   ]
  },
  {
   "cell_type": "code",
   "execution_count": 23,
   "metadata": {},
   "outputs": [
    {
     "name": "stdout",
     "output_type": "stream",
     "text": [
      "&KLHI\u0003([HFXWLYH\u00032IILFHU\u0003 &(2 &KLHI\u0003([HFXWLYH\u00032IILFHU\u0003 &(2 \n"
     ]
    }
   ],
   "source": [
    "#Example Code:\n",
    "from PyPDF2 import PdfReader\n",
    "import  re\n",
    "pdf_reader = PdfReader(file_path)\n",
    "if pdf_reader.is_encrypted: # to check whether the pdf is encrypted or not\n",
    "    pdf_reader.decrypt(\"swordfish\")\n",
    "text = \"\"\n",
    "for page in pdf_reader.pages:\n",
    "    text += page.extract_text()\n",
    "\n",
    "clean_text = re.sub(r'\\s+', ' ', text) \n",
    "print(clean_text)"
   ]
  },
  {
   "cell_type": "markdown",
   "metadata": {},
   "source": [
    "5. What methods do you use to rotate a page?\n",
    "Ans: PyPDF2 Package provides 2 methods to rotate a page:\n",
    "\n",
    "1. rotateClockWise() -> For Clockwise rotation\n",
    "2. rotateCounterClockWise() -> For Counter Clockwise rotation\n",
    "The PyPDF2 package only allows you to rotate a page in increments of 90 degrees. You will receive an AssertionError otherwise."
   ]
  },
  {
   "cell_type": "markdown",
   "metadata": {},
   "source": [
    "6. What is the difference between a Run object and a Paragraph object?\n",
    "\n",
    "Ans: The structure of a document is represented by three different data types in python-Docx. At the highest level, a Document object represents the entire document. The Document object contains a list of Paragraph objects for the paragraphs in the document. (A new paragraph begins whenever the user presses ENTER or RETURN while typing in a Word document.) Each of these Paragraph objects contains a list of one or more Run objects.\n",
    "\n",
    "The text in a Word document is more than just a string. It has font, size, color, and other styling information associated with it. A style in Word is a collection of these attributes. A Run object is a contiguous run of text with the same style. A new Run object is needed whenever the text style changes."
   ]
  },
  {
   "cell_type": "markdown",
   "metadata": {},
   "source": [
    "7. How do you obtain a list of Paragraph objects for a Document object that’s stored in a variable named doc?"
   ]
  },
  {
   "cell_type": "code",
   "execution_count": 26,
   "metadata": {},
   "outputs": [
    {
     "name": "stdout",
     "output_type": "stream",
     "text": [
      "Collecting python-docx\n",
      "  Downloading python_docx-1.1.0-py3-none-any.whl (239 kB)\n",
      "     -------------------------------------- 239.6/239.6 kB 1.1 MB/s eta 0:00:00\n",
      "Requirement already satisfied: lxml>=3.1.0 in c:\\users\\debeer\\appdata\\local\\programs\\python\\python310\\lib\\site-packages (from python-docx) (4.9.1)\n",
      "Requirement already satisfied: typing-extensions in c:\\users\\debeer\\appdata\\local\\programs\\python\\python310\\lib\\site-packages (from python-docx) (4.3.0)\n",
      "Installing collected packages: python-docx\n",
      "Successfully installed python-docx-1.1.0\n",
      "Note: you may need to restart the kernel to use updated packages.\n"
     ]
    },
    {
     "name": "stderr",
     "output_type": "stream",
     "text": [
      "\n",
      "[notice] A new release of pip available: 22.2.2 -> 24.0\n",
      "[notice] To update, run: python.exe -m pip install --upgrade pip\n"
     ]
    }
   ],
   "source": [
    "pip install python-docx"
   ]
  },
  {
   "cell_type": "code",
   "execution_count": 28,
   "metadata": {},
   "outputs": [
    {
     "name": "stdout",
     "output_type": "stream",
     "text": [
      "[<docx.text.paragraph.Paragraph object at 0x00000253527F42E0>, <docx.text.paragraph.Paragraph object at 0x00000253527F4430>, <docx.text.paragraph.Paragraph object at 0x00000253527F43D0>, <docx.text.paragraph.Paragraph object at 0x00000253527F41F0>, <docx.text.paragraph.Paragraph object at 0x00000253527F4370>, <docx.text.paragraph.Paragraph object at 0x00000253527F40D0>, <docx.text.paragraph.Paragraph object at 0x00000253527F4190>, <docx.text.paragraph.Paragraph object at 0x00000253527F4310>, <docx.text.paragraph.Paragraph object at 0x00000253527F40A0>, <docx.text.paragraph.Paragraph object at 0x00000253527EB9D0>, <docx.text.paragraph.Paragraph object at 0x00000253527EB790>, <docx.text.paragraph.Paragraph object at 0x00000253527EB970>, <docx.text.paragraph.Paragraph object at 0x00000253527EB6D0>, <docx.text.paragraph.Paragraph object at 0x00000253527EB940>, <docx.text.paragraph.Paragraph object at 0x00000253527EBAC0>, <docx.text.paragraph.Paragraph object at 0x00000253527EBB50>, <docx.text.paragraph.Paragraph object at 0x00000253527EB8E0>, <docx.text.paragraph.Paragraph object at 0x00000253527EBB20>, <docx.text.paragraph.Paragraph object at 0x00000253527EBCD0>, <docx.text.paragraph.Paragraph object at 0x00000253527EBBE0>, <docx.text.paragraph.Paragraph object at 0x00000253527EB220>, <docx.text.paragraph.Paragraph object at 0x00000253527EAC50>, <docx.text.paragraph.Paragraph object at 0x00000253527EB8B0>, <docx.text.paragraph.Paragraph object at 0x00000253527EB610>, <docx.text.paragraph.Paragraph object at 0x00000253527EB7C0>, <docx.text.paragraph.Paragraph object at 0x00000253527EB4F0>, <docx.text.paragraph.Paragraph object at 0x00000253527E84C0>, <docx.text.paragraph.Paragraph object at 0x00000253527EB9A0>, <docx.text.paragraph.Paragraph object at 0x00000253527EB310>, <docx.text.paragraph.Paragraph object at 0x00000253527EB820>, <docx.text.paragraph.Paragraph object at 0x00000253527EB190>, <docx.text.paragraph.Paragraph object at 0x00000253527EB160>, <docx.text.paragraph.Paragraph object at 0x00000253527EB3D0>, <docx.text.paragraph.Paragraph object at 0x00000253527EB2E0>, <docx.text.paragraph.Paragraph object at 0x00000253527EB400>, <docx.text.paragraph.Paragraph object at 0x00000253527EB5B0>, <docx.text.paragraph.Paragraph object at 0x00000253527F32B0>, <docx.text.paragraph.Paragraph object at 0x00000253527F2050>, <docx.text.paragraph.Paragraph object at 0x00000253527F2140>, <docx.text.paragraph.Paragraph object at 0x00000253527F2110>]\n",
      "Monthly Report\n",
      "January - 2024\n",
      "\n",
      "Employee Name:\t\t\t\t\tEmployee Code:\t\n",
      "Debee Prasad Rath      \t\t\t         1712                \t\t\t \n",
      "\n",
      "Appraiser:                                                     Designation:\n",
      "Ms. Samiksha Lulle                                        Senior Project Associate - I\n",
      "\n",
      "\n",
      "\n",
      "\n",
      "Tasks in New DU \n",
      "New ERPS Module \n",
      "Synchronization\n",
      "Designed the API that can fetch the data for all the students in that term in batches and write those in xml file structure.\n",
      "Those xml files are being uploaded in the file storage server for further processing and the location of the file was being returned and inserted into the database.\n",
      "Tested, deployed and trouble shoot the issues that were encountered for different instances.\n",
      "Written the required stored procedures for the student data sync for the MySQL database, so that it can fetch the data, update the flag after insertion and fetch the statistics from both the source and destination.   \n",
      "Designed API which can send the processed student data to the exposed endpoint of the examination server. \n",
      "Now, for this instance the resulted output is not XML rather its Json structure. \n",
      "Examination Module\n",
      "Setting-up the examination server(Golang) from the scratch and prepared the utilities that will be required during the development process.\n",
      "Development of the utilities based on the standard folder and modular structure, so that it will be handy for developers to design the features as per requirement.\n",
      " Development of the API that will consume the data that was sent from the ERPS server, the API will update all the data for students for an event at different levels. \n",
      "Preparing the staging environment for deployment starting from writing service file, structuring the config Json file as per requirement and logging the error. \n",
      "Helping the senior team-mates for the steps to be taken for deploying the front-end and backend server. \n",
      "Helping the team-mates in completing their tasks and troubleshooting the issues that arises during development.  \n",
      "\n",
      "Learning \n",
      "Preparing XML files and writing the data in the file for every batch for data that is being fetched. \n",
      "Understanding the architecture level design and working of big data technology and tools like Hadoop, SQL and Hive.\n",
      "Efficient use of different data structures in Golang based on use-case scenarios.\n",
      "Understanding of different real-time scenarios to handle different volume and type of data pipeline and how to handle such large volume and data and when to use in-memory processing or divide them into batches.\n",
      "Prepared the API to feed the reporting tool with the static Json data for data rendering.\n",
      ". \n",
      "\n",
      "\n",
      "\n",
      "\n",
      "\n",
      "\n"
     ]
    }
   ],
   "source": [
    "# Example Program\n",
    "from docx import Document\n",
    "doc = Document(\"D:\\MyData\\Performance Report and plan\\Debee_Prasad_Rath_Performance_Report_Jan-2024.docx\") # Path of the Docx file\n",
    "print(doc.paragraphs) # Prints the list of Paragraph objects for a Document\n",
    "for paragraph in doc.paragraphs:\n",
    "    print(paragraph.text) # Prints the text in the paragraph"
   ]
  },
  {
   "cell_type": "markdown",
   "metadata": {},
   "source": [
    "8. What type of object has bold, underline, italic, strike, and outline variables?\n",
    "\n",
    "Ans: Run object has bold, underline, italic, strike, and outline variables. The text in a Word document is more than just a string. It has font, size, color, and other styling information associated with it.\n",
    "\n",
    "A style in Word is a collection of these attributes. A Run object is a contiguous run of text with the same style. A new Run object is needed whenever the text style changes."
   ]
  },
  {
   "cell_type": "markdown",
   "metadata": {},
   "source": [
    "9. How do you create a Document object for a new Word document?"
   ]
  },
  {
   "cell_type": "code",
   "execution_count": 30,
   "metadata": {},
   "outputs": [],
   "source": [
    "# Example Program\n",
    "from docx import Document\n",
    "document = Document()\n",
    "document.add_paragraph(\"iNeuron Full Stack DataScience Course\")\n",
    "document.save('test/mydocument.docx')"
   ]
  },
  {
   "cell_type": "markdown",
   "metadata": {},
   "source": [
    "10. How do you add a paragraph with the text 'Hello, there!' to a Document object stored in a variable named doc?"
   ]
  },
  {
   "cell_type": "code",
   "execution_count": 31,
   "metadata": {},
   "outputs": [],
   "source": [
    "# Example Program\n",
    "from docx import Document\n",
    "doc = Document()\n",
    "doc.add_paragraph('Hello, there!')\n",
    "doc.save('test/hello.docx')"
   ]
  }
 ],
 "metadata": {
  "kernelspec": {
   "display_name": "Python 3",
   "language": "python",
   "name": "python3"
  },
  "language_info": {
   "codemirror_mode": {
    "name": "ipython",
    "version": 3
   },
   "file_extension": ".py",
   "mimetype": "text/x-python",
   "name": "python",
   "nbconvert_exporter": "python",
   "pygments_lexer": "ipython3",
   "version": "3.10.7"
  }
 },
 "nbformat": 4,
 "nbformat_minor": 2
}
